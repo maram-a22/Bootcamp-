{
 "cells": [
  {
   "cell_type": "markdown",
   "metadata": {
    "id": "rxZkQgZv8Tlc"
   },
   "source": [
    "#Step 1: Import necessary libraries\n",
    "###The implementation requires to import numpy, sklearn, FastICA and matplotlib.\n",
    "\n"
   ]
  },
  {
   "cell_type": "code",
   "execution_count": 2,
   "metadata": {
    "executionInfo": {
     "elapsed": 8,
     "status": "ok",
     "timestamp": 1722844308216,
     "user": {
      "displayName": "Dalia Y. Al Maktoum",
      "userId": "18225632233557715878"
     },
     "user_tz": -180
    },
    "id": "7REjg6U_8K3b"
   },
   "outputs": [],
   "source": [
    "import numpy as np\n",
    "from sklearn.decomposition import FastICA\n",
    "import matplotlib.pyplot as plt"
   ]
  },
  {
   "cell_type": "markdown",
   "metadata": {
    "id": "A8fR85EA8b4s"
   },
   "source": [
    "#Step 2: Generate Random Data and Mix the Signals\n",
    "\n",
    "Random seed is set to generate random numbers.\n",
    "\n",
    "Samples and Time parameters are defined.\n",
    "\n",
    "Synthetic signals are generated and then combined to single matrix “S”.\n",
    "Noise is added to each element of the matrix.\n",
    "\n",
    "Matrix “A” is defined with coefficients the represent how the original signals are combined to form observed signals.\n",
    "\n",
    "The observed signals are obtained by multiplying the matrix “S” by the transpose of the mixing matrix “A”.\n"
   ]
  },
  {
   "cell_type": "code",
   "execution_count": 4,
   "metadata": {
    "executionInfo": {
     "elapsed": 6,
     "status": "ok",
     "timestamp": 1722844308216,
     "user": {
      "displayName": "Dalia Y. Al Maktoum",
      "userId": "18225632233557715878"
     },
     "user_tz": -180
    },
    "id": "DDEbDesf8l53"
   },
   "outputs": [],
   "source": [
    "# Generate synthetic mixed signals\n",
    "np.random.seed(23)\n",
    "samples = 300\n",
    "time = np.linspace(0, 8, samples)\n",
    "\n",
    "signal_1 = np.sin(2 * time)\n",
    "signal_2 = np.sign(np.sin(3 * time))\n",
    "signal_3 = np.random.laplace(size= samples)\n",
    "\n",
    "S = np.c_[signal_1, signal_2, signal_3]\n",
    "# Add noise\n",
    "S += 0.2 * np.random.normal(size=S.shape)  \n",
    "\n",
    "# Mix the signals\n",
    "A = np.array([[1, 1, 1], [0.5, 2, 1], [1.5, 1, 2]]) \n",
    "X = S.dot(A.T)  "
   ]
  },
  {
   "cell_type": "markdown",
   "metadata": {
    "id": "DpoBtGJ08x1s"
   },
   "source": [
    "#Step 3: Apply ICA to unmix the signals\n",
    "#In the following code snippet,\n",
    "\n",
    "\n",
    "\n",
    "*   An instance of FastICA class is created and number of independent components are set to 3.\n",
    "\n",
    "*   Fast ICA algorithm is applied to the observed mixed signals ‘X’. This fits the model to the data and transforms the data to obtain the estimated independent sources (S_).\n",
    "\n",
    "\n",
    "\n"
   ]
  },
  {
   "cell_type": "code",
   "execution_count": 7,
   "metadata": {
    "executionInfo": {
     "elapsed": 6,
     "status": "ok",
     "timestamp": 1722844308217,
     "user": {
      "displayName": "Dalia Y. Al Maktoum",
      "userId": "18225632233557715878"
     },
     "user_tz": -180
    },
    "id": "9JV-2Jri8opK"
   },
   "outputs": [
    {
     "name": "stderr",
     "output_type": "stream",
     "text": [
      "/opt/anaconda3/lib/python3.12/site-packages/sklearn/decomposition/_fastica.py:595: UserWarning: n_components is too large: it will be set to 3\n",
      "  warnings.warn(\n"
     ]
    }
   ],
   "source": [
    "# Estimated sources\n",
    "ica = FastICA(n_components=4)\n",
    "S_ = ica.fit_transform(X) "
   ]
  },
  {
   "cell_type": "markdown",
   "metadata": {
    "id": "zJ5LPu_Q89sl"
   },
   "source": [
    "# Step 4: Visualize the signals\n"
   ]
  },
  {
   "cell_type": "code",
   "execution_count": 3,
   "metadata": {
    "executionInfo": {
     "elapsed": 6,
     "status": "ok",
     "timestamp": 1722844308217,
     "user": {
      "displayName": "Dalia Y. Al Maktoum",
      "userId": "18225632233557715878"
     },
     "user_tz": -180
    },
    "id": "kdlvPYYP89OY"
   },
   "outputs": [],
   "source": [
    "# Plot the results\n",
    "\n"
   ]
  }
 ],
 "metadata": {
  "colab": {
   "provenance": []
  },
  "kernelspec": {
   "display_name": "Python 3 (ipykernel)",
   "language": "python",
   "name": "python3"
  },
  "language_info": {
   "codemirror_mode": {
    "name": "ipython",
    "version": 3
   },
   "file_extension": ".py",
   "mimetype": "text/x-python",
   "name": "python",
   "nbconvert_exporter": "python",
   "pygments_lexer": "ipython3",
   "version": "3.12.4"
  }
 },
 "nbformat": 4,
 "nbformat_minor": 4
}
